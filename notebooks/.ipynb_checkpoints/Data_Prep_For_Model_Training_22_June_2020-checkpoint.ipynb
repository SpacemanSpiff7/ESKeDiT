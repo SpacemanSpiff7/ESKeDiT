{
 "cells": [
  {
   "cell_type": "markdown",
   "metadata": {},
   "source": [
    "## Steps for Data Preparation\n",
    "##### Simone Longo\n",
    "\n",
    "The following shows the steps used in the command line to obtain regions that will be used to train the model. The goal is to capture a neutral mutation rate so the regions of interest will be free of all protein coding sequences, which are observed to be under a high degree of constraint. \n",
    "\n",
    "The starting data is from the ENSEMBL Biomart using the following parameters:\n",
    "- Using Ensembl Genes 100 dataset with GRCh38.p13 Human genes\n",
    "- Restricted to include only autosomes (chr 1-22) AND only genes annotated as being \"protein_coding\" by ENSEMBL\n",
    "- From the \"Structures\" option:\n",
    " - Chromosome/scaffold name\n",
    " - Exon region start (bp)\n",
    " - Exon region end (bp)\n",
    " - Exon stable ID\n",
    " - Exon rank in transcript\n",
    " - Strand\n",
    " - Gene name"
   ]
  },
  {
   "cell_type": "code",
   "execution_count": 3,
   "metadata": {
    "scrolled": true
   },
   "outputs": [
    {
     "name": "stdout",
     "output_type": "stream",
     "text": [
      "Chromosome/scaffold name\tExon region start (bp)\tExon region end (bp)\tExon stable ID\tExon rank in transcript\tStrand\tGene name\r\n",
      "1\t201468341\t201469188\tENSE00001444159\t1\t-1\tPHLDA3\r\n",
      "1\t201464278\t201466178\tENSE00001444157\t2\t-1\tPHLDA3\r\n",
      "1\t201468345\t201468581\tENSE00001824558\t1\t-1\tPHLDA3\r\n",
      "1\t201467486\t201467583\tENSE00002409826\t2\t-1\tPHLDA3\r\n",
      "1\t201465853\t201466178\tENSE00001901596\t3\t-1\tPHLDA3\r\n",
      "1\t201466311\t201466657\tENSE00001820952\t1\t-1\tPHLDA3\r\n",
      "1\t201465944\t201466178\tENSE00001936305\t2\t-1\tPHLDA3\r\n",
      "1\t201469171\t201469237\tENSE00001444155\t1\t-1\tPHLDA3\r\n",
      "1\t201468341\t201468948\tENSE00001444153\t2\t-1\tPHLDA3\r\n",
      "1\t201465958\t201466178\tENSE00001444152\t3\t-1\tPHLDA3\r\n",
      "1\t207752054\t207752309\tENSE00003898531\t1\t1\tCD46\r\n",
      "1\t207757014\t207757202\tENSE00003465327\t2\t1\tCD46\r\n",
      "1\t207757540\t207757642\tENSE00003504276\t3\t1\tCD46\r\n",
      "1\t207759639\t207759724\tENSE00003509765\t4\t1\tCD46\r\n",
      "1\t207761249\t207761446\tENSE00001167611\t5\t1\tCD46\r\n",
      "1\t207767013\t207767195\tENSE00001167601\t6\t1\tCD46\r\n",
      "1\t207767779\t207767823\tENSE00000792032\t7\t1\tCD46\r\n",
      "1\t207770321\t207770362\tENSE00003558309\t8\t1\tCD46\r\n",
      "1\t207783292\t207783330\tENSE00003582519\t9\t1\tCD46\r\n"
     ]
    }
   ],
   "source": [
    "!head -20 /Users/simonelongo/Documents/QuinlanLabFiles/ESKeDiT/notebooks/notebook_resources/ensembl_protein_coding_autosome_exons.txt"
   ]
  },
  {
   "cell_type": "markdown",
   "metadata": {},
   "source": [
    "#### Convert to BED format\n",
    "```\n",
    "awk -v OFS='\\t' \\\n",
    "'{ if ($6 > 0) { $6 = \"+\"} else { $6 = \"-\"} print \"chr\"$0 }' \\\n",
    "ensembl_protein_coding_autosome_exons.txt |\\\n",
    "tail -n +2 > ensembl_protein_coding_22june2020.bed\n",
    "```"
   ]
  },
  {
   "cell_type": "markdown",
   "metadata": {},
   "source": [
    "```\n",
    "head -n 20 ensembl_protein_coding_22june2020.bed\n",
    "\n",
    "chr1\t201468341\t201469188\tENSE00001444159\t1\t-\tPHLDA3\n",
    "chr1\t201464278\t201466178\tENSE00001444157\t2\t-\tPHLDA3\n",
    "chr1\t201468345\t201468581\tENSE00001824558\t1\t-\tPHLDA3\n",
    "chr1\t201467486\t201467583\tENSE00002409826\t2\t-\tPHLDA3\n",
    "chr1\t201465853\t201466178\tENSE00001901596\t3\t-\tPHLDA3\n",
    "chr1\t201466311\t201466657\tENSE00001820952\t1\t-\tPHLDA3\n",
    "chr1\t201465944\t201466178\tENSE00001936305\t2\t-\tPHLDA3\n",
    "chr1\t201469171\t201469237\tENSE00001444155\t1\t-\tPHLDA3\n",
    "chr1\t201468341\t201468948\tENSE00001444153\t2\t-\tPHLDA3\n",
    "chr1\t201465958\t201466178\tENSE00001444152\t3\t-\tPHLDA3\n",
    "chr1\t207752054\t207752309\tENSE00003898531\t1\t+\tCD46\n",
    "chr1\t207757014\t207757202\tENSE00003465327\t2\t+\tCD46\n",
    "chr1\t207757540\t207757642\tENSE00003504276\t3\t+\tCD46\n",
    "chr1\t207759639\t207759724\tENSE00003509765\t4\t+\tCD46\n",
    "chr1\t207761249\t207761446\tENSE00001167611\t5\t+\tCD46\n",
    "chr1\t207767013\t207767195\tENSE00001167601\t6\t+\tCD46\n",
    "chr1\t207767779\t207767823\tENSE00000792032\t7\t+\tCD46\n",
    "chr1\t207770321\t207770362\tENSE00003558309\t8\t+\tCD46\n",
    "chr1\t207783292\t207783330\tENSE00003582519\t9\t+\tCD46\n",
    "chr1\t207785071\t207785106\tENSE00003520315\t10\t+\tCD46\n",
    "```"
   ]
  },
  {
   "cell_type": "markdown",
   "metadata": {},
   "source": [
    "#### Flatten BED file and Exclude Coding Regions\n",
    "\n",
    "The BED must first be compressed and indexed by `tabix` for `bedtools` to function properly. This can be done with a function called `bedprep`.\n",
    "\n",
    "The default options for `bedtools merge` for Version v2.29.2 are used.\n",
    "\n",
    "```\n",
    "bedprep ensembl_protein_coding_22june2020.bed\n",
    "bedtools merge -i ensembl_protein_coding_22june2020_sorted.bed.gz > flat_ensembl_pc_22june2020.bed\n",
    "\n",
    "head -20 flat_ensembl_pc_22june2020.bed\n",
    "\n",
    "chr1\t65419\t65433\n",
    "chr1\t65520\t65573\n",
    "chr1\t69037\t71585\n",
    "chr1\t450703\t451697\n",
    "chr1\t685679\t686673\n",
    "chr1\t923928\t924948\n",
    "chr1\t925150\t925189\n",
    "chr1\t925731\t925800\n",
    "chr1\t925922\t926013\n",
    "chr1\t930155\t930336\n",
    "chr1\t931039\t931089\n",
    "chr1\t935772\t935896\n",
    "chr1\t939040\t939129\n",
    "chr1\t939272\t939460\n",
    "chr1\t940346\t940462\n",
    "chr1\t941076\t941306\n",
    "chr1\t942103\t943058\n",
    "chr1\t943253\t943377\n",
    "chr1\t943698\t944800\n",
    "chr1\t945042\t945146\n",
    "```\n",
    "\n",
    "Bedtools requires a genome file to take the inverse of these regions. Here, I use `grch38.genome` and `-L` flag to limit the output to chromosomes contained in the input.\n",
    "\n",
    "```\n",
    "bedtools complement -L -i flat_ensembl_pc_22june2020.bed -g grch38.genome > pc_exon_complement_22june2020.bed\n",
    "\n",
    "# Now we have the inverse\n",
    "head -20 pc_exon_complement_22june2020.bed\n",
    "\n",
    "chr1\t0\t65419\n",
    "chr1\t65433\t65520\n",
    "chr1\t65573\t69037\n",
    "chr1\t71585\t450703\n",
    "chr1\t451697\t685679\n",
    "chr1\t686673\t923928\n",
    "chr1\t924948\t925150\n",
    "chr1\t925189\t925731\n",
    "chr1\t925800\t925922\n",
    "chr1\t926013\t930155\n",
    "chr1\t930336\t931039\n",
    "chr1\t931089\t935772\n",
    "chr1\t935896\t939040\n",
    "chr1\t939129\t939272\n",
    "chr1\t939460\t940346\n",
    "chr1\t940462\t941076\n",
    "chr1\t941306\t942103\n",
    "chr1\t943058\t943253\n",
    "chr1\t943377\t943698\n",
    "chr1\t944800\t945042\n",
    "```\n",
    "\n",
    "This BED file is now ready to be used as an input for model training."
   ]
  },
  {
   "cell_type": "markdown",
   "metadata": {},
   "source": [
    "### Using ESKeDiT 2.0.0\n",
    "\n",
    "ESKeDiT is used to train the model.\n",
    "\n",
    "Clone repository:\n",
    "```\n",
    "git clone https://github.com/SpacemanSpiff7/ESKeDiT\n",
    "cd ESKeDiT\n",
    "```\n",
    "\n",
    "Declare variables to use and run.\n",
    "```\n",
    "nprocs=1\n",
    "bed_path='/Users/simonelongo/Documents/QuinlanLabFiles/ESKeDiT/notebooks/notebook_resources/pc_exon_complement_22june2020.bed'\n",
    "vcf_path='/Users/simonelongo/too_big_for_icloud/gnomAD_v3/gnomad.genomes.r3.0.sites.vcf.bgz'\n",
    "fasta_path='/Users/simonelongo/too_big_for_icloud/ref_genome/hg38/hg38.fa'\n",
    "meth_vcf_path='/Users/simonelongo/too_big_for_icloud/gnomAD_v3/gnomadv3_methylation_2.vcf.bgz'\n",
    "\n",
    "python3 eskedit_main.py -f $fasta_path -v $vcf_path -b $bed_path -m $meth_vcf_path -@ $nprocs\n",
    "```\n",
    "\n"
   ]
  },
  {
   "cell_type": "code",
   "execution_count": null,
   "metadata": {},
   "outputs": [],
   "source": []
  }
 ],
 "metadata": {
  "kernelspec": {
   "display_name": "Python 3",
   "language": "python",
   "name": "python3"
  },
  "language_info": {
   "codemirror_mode": {
    "name": "ipython",
    "version": 3
   },
   "file_extension": ".py",
   "mimetype": "text/x-python",
   "name": "python",
   "nbconvert_exporter": "python",
   "pygments_lexer": "ipython3",
   "version": "3.7.4"
  },
  "varInspector": {
   "cols": {
    "lenName": 16,
    "lenType": 16,
    "lenVar": 40
   },
   "kernels_config": {
    "python": {
     "delete_cmd_postfix": "",
     "delete_cmd_prefix": "del ",
     "library": "var_list.py",
     "varRefreshCmd": "print(var_dic_list())"
    },
    "r": {
     "delete_cmd_postfix": ") ",
     "delete_cmd_prefix": "rm(",
     "library": "var_list.r",
     "varRefreshCmd": "cat(var_dic_list()) "
    }
   },
   "types_to_exclude": [
    "module",
    "function",
    "builtin_function_or_method",
    "instance",
    "_Feature"
   ],
   "window_display": false
  }
 },
 "nbformat": 4,
 "nbformat_minor": 4
}
